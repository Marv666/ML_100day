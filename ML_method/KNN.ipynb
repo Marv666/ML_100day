{
 "cells": [
  {
   "cell_type": "markdown",
   "metadata": {},
   "source": [
    "### \n",
    "1. fit the function\n",
    "2. predict the data"
   ]
  },
  {
   "cell_type": "code",
   "execution_count": 2,
   "metadata": {},
   "outputs": [],
   "source": [
    "import numpy as np\n",
    "from sklearn import datasets\n",
    "from sklearn.model_selection import train_test_split\n",
    "import matplotlib.pyplot as plt\n",
    "from matplotlib.colors import ListedColormap"
   ]
  },
  {
   "cell_type": "code",
   "execution_count": 4,
   "metadata": {},
   "outputs": [],
   "source": [
    "from collections import Counter"
   ]
  },
  {
   "cell_type": "code",
   "execution_count": 5,
   "metadata": {},
   "outputs": [],
   "source": [
    "iris = datasets.load_iris()\n",
    "X,y = iris.data, iris.target"
   ]
  },
  {
   "cell_type": "code",
   "execution_count": 6,
   "metadata": {},
   "outputs": [],
   "source": [
    "X_train, X_test, y_train, y_test = train_test_split(X,y, test_size=0.2)"
   ]
  },
  {
   "cell_type": "code",
   "execution_count": 7,
   "metadata": {},
   "outputs": [
    {
     "data": {
      "text/plain": [
       "<matplotlib.collections.PathCollection at 0x9afecf8>"
      ]
     },
     "execution_count": 7,
     "metadata": {},
     "output_type": "execute_result"
    },
    {
     "data": {
      "image/png": "[encoded data removed]",
      "text/plain": [
       "<Figure size 432x288 with 1 Axes>"
      ]
     },
     "metadata": {
      "needs_background": "light"
     },
     "output_type": "display_data"
    }
   ],
   "source": [
    "plt.scatter(X[:,1],X[:,2],c=y)"
   ]
  },
  {
   "cell_type": "code",
   "execution_count": 8,
   "metadata": {},
   "outputs": [
    {
     "data": {
      "text/plain": [
       "array([[6.3, 3.4, 5.6, 2.4],\n",
       "       [5.1, 2.5, 3. , 1.1],\n",
       "       [5. , 3.2, 1.2, 0.2],\n",
       "       [5.7, 4.4, 1.5, 0.4],\n",
       "       [5.1, 3.7, 1.5, 0.4],\n",
       "       [5.5, 2.3, 4. , 1.3],\n",
       "       [5. , 2.3, 3.3, 1. ],\n",
       "       [6.5, 3. , 5.2, 2. ],\n",
       "       [4.6, 3.1, 1.5, 0.2],\n",
       "       [5.7, 2.9, 4.2, 1.3],\n",
       "       [6. , 2.2, 5. , 1.5],\n",
       "       [5.2, 3.5, 1.5, 0.2],\n",
       "       [5.2, 3.4, 1.4, 0.2],\n",
       "       [5.9, 3. , 4.2, 1.5],\n",
       "       [7. , 3.2, 4.7, 1.4],\n",
       "       [7.7, 3.8, 6.7, 2.2],\n",
       "       [6.3, 2.5, 4.9, 1.5],\n",
       "       [5.5, 3.5, 1.3, 0.2],\n",
       "       [6.3, 3.3, 4.7, 1.6],\n",
       "       [5.4, 3.7, 1.5, 0.2],\n",
       "       [4.9, 2.5, 4.5, 1.7],\n",
       "       [5.5, 2.5, 4. , 1.3],\n",
       "       [6.1, 3. , 4.6, 1.4],\n",
       "       [4.4, 3. , 1.3, 0.2],\n",
       "       [5.4, 3. , 4.5, 1.5],\n",
       "       [6.7, 3.3, 5.7, 2.5],\n",
       "       [6.3, 2.5, 5. , 1.9],\n",
       "       [4.9, 3. , 1.4, 0.2],\n",
       "       [7.1, 3. , 5.9, 2.1],\n",
       "       [6.7, 3. , 5.2, 2.3],\n",
       "       [4.8, 3.4, 1.6, 0.2],\n",
       "       [4.8, 3. , 1.4, 0.3],\n",
       "       [6. , 2.2, 4. , 1. ],\n",
       "       [5.1, 3.5, 1.4, 0.3],\n",
       "       [5.8, 2.7, 5.1, 1.9],\n",
       "       [6. , 2.7, 5.1, 1.6],\n",
       "       [6.7, 3.1, 4.4, 1.4],\n",
       "       [6.1, 2.6, 5.6, 1.4],\n",
       "       [6. , 3. , 4.8, 1.8],\n",
       "       [5.1, 3.3, 1.7, 0.5],\n",
       "       [5.6, 3. , 4.1, 1.3],\n",
       "       [6.4, 3.2, 4.5, 1.5],\n",
       "       [6.9, 3.1, 5.1, 2.3],\n",
       "       [5.2, 2.7, 3.9, 1.4],\n",
       "       [6.2, 2.8, 4.8, 1.8],\n",
       "       [6.1, 2.8, 4.7, 1.2],\n",
       "       [7.9, 3.8, 6.4, 2. ],\n",
       "       [6.4, 2.8, 5.6, 2.1],\n",
       "       [5.4, 3.4, 1.7, 0.2],\n",
       "       [5.9, 3.2, 4.8, 1.8],\n",
       "       [5.2, 4.1, 1.5, 0.1],\n",
       "       [4.6, 3.2, 1.4, 0.2],\n",
       "       [4.7, 3.2, 1.6, 0.2],\n",
       "       [7.2, 3.2, 6. , 1.8],\n",
       "       [7.2, 3.6, 6.1, 2.5],\n",
       "       [5.6, 2.9, 3.6, 1.3],\n",
       "       [4.3, 3. , 1.1, 0.1],\n",
       "       [7.7, 3. , 6.1, 2.3],\n",
       "       [5.8, 2.8, 5.1, 2.4],\n",
       "       [4.9, 2.4, 3.3, 1. ],\n",
       "       [5. , 3.4, 1.5, 0.2],\n",
       "       [5.7, 3. , 4.2, 1.2],\n",
       "       [7.7, 2.6, 6.9, 2.3],\n",
       "       [5.8, 2.7, 4.1, 1. ],\n",
       "       [5. , 3.3, 1.4, 0.2],\n",
       "       [6.7, 2.5, 5.8, 1.8],\n",
       "       [6.3, 2.3, 4.4, 1.3],\n",
       "       [4.8, 3.4, 1.9, 0.2],\n",
       "       [4.4, 3.2, 1.3, 0.2],\n",
       "       [6.6, 2.9, 4.6, 1.3],\n",
       "       [5.1, 3.4, 1.5, 0.2],\n",
       "       [5.1, 3.8, 1.9, 0.4],\n",
       "       [6.9, 3.2, 5.7, 2.3],\n",
       "       [5.7, 2.5, 5. , 2. ],\n",
       "       [5.5, 2.6, 4.4, 1.2],\n",
       "       [6.7, 3. , 5. , 1.7],\n",
       "       [5.3, 3.7, 1.5, 0.2],\n",
       "       [4.9, 3.6, 1.4, 0.1],\n",
       "       [6.2, 2.9, 4.3, 1.3],\n",
       "       [5.6, 2.8, 4.9, 2. ],\n",
       "       [5.7, 3.8, 1.7, 0.3],\n",
       "       [5.8, 2.7, 3.9, 1.2],\n",
       "       [7.6, 3. , 6.6, 2.1],\n",
       "       [5. , 3. , 1.6, 0.2],\n",
       "       [5.4, 3.9, 1.7, 0.4],\n",
       "       [6. , 2.9, 4.5, 1.5],\n",
       "       [6.3, 2.8, 5.1, 1.5],\n",
       "       [5.4, 3.9, 1.3, 0.4],\n",
       "       [5. , 2. , 3.5, 1. ],\n",
       "       [5.8, 4. , 1.2, 0.2],\n",
       "       [6.7, 3.3, 5.7, 2.1],\n",
       "       [7.7, 2.8, 6.7, 2. ],\n",
       "       [4.9, 3.1, 1.5, 0.2],\n",
       "       [6.4, 3.2, 5.3, 2.3],\n",
       "       [6.1, 3. , 4.9, 1.8],\n",
       "       [5. , 3.5, 1.6, 0.6],\n",
       "       [5.6, 2.5, 3.9, 1.1],\n",
       "       [4.5, 2.3, 1.3, 0.3],\n",
       "       [5.7, 2.6, 3.5, 1. ],\n",
       "       [5.7, 2.8, 4.1, 1.3],\n",
       "       [4.7, 3.2, 1.3, 0.2],\n",
       "       [6.9, 3.1, 5.4, 2.1],\n",
       "       [5.1, 3.5, 1.4, 0.2],\n",
       "       [5.9, 3. , 5.1, 1.8],\n",
       "       [6.2, 2.2, 4.5, 1.5],\n",
       "       [5. , 3.5, 1.3, 0.3],\n",
       "       [5.6, 2.7, 4.2, 1.3],\n",
       "       [6.9, 3.1, 4.9, 1.5],\n",
       "       [5.5, 4.2, 1.4, 0.2],\n",
       "       [7.3, 2.9, 6.3, 1.8],\n",
       "       [6.8, 3. , 5.5, 2.1],\n",
       "       [5.8, 2.6, 4. , 1.2],\n",
       "       [5.4, 3.4, 1.5, 0.4],\n",
       "       [5.1, 3.8, 1.5, 0.3],\n",
       "       [5.8, 2.7, 5.1, 1.9],\n",
       "       [6.5, 3. , 5.8, 2.2],\n",
       "       [6.1, 2.8, 4. , 1.3],\n",
       "       [6.8, 3.2, 5.9, 2.3],\n",
       "       [6.6, 3. , 4.4, 1.4],\n",
       "       [7.4, 2.8, 6.1, 1.9]])"
      ]
     },
     "execution_count": 8,
     "metadata": {},
     "output_type": "execute_result"
    }
   ],
   "source": [
    "X_train"
   ]
  },
  {
   "cell_type": "code",
   "execution_count": 22,
   "metadata": {},
   "outputs": [],
   "source": [
    " \n",
    "import numpy as np\n",
    "from collections import Counter\n",
    "\n",
    "\n",
    "def euclidean_distance(x1, x2):\n",
    "        return np.sqrt(np.sum((x1 - x2)**2))\n",
    "\n",
    "\n",
    "class KNN:\n",
    "\n",
    "    def __init__(self, k=3):\n",
    "        self.k = k\n",
    "\n",
    "    def fit(self, X, y):\n",
    "        self.X_train = X\n",
    "        self.y_train = y\n",
    "\n",
    "    def predict(self, X):\n",
    "        y_pred = [self._predict(x) for x in X]\n",
    "        return np.array(y_pred)\n",
    "\n",
    "    def _predict(self, x):\n",
    "        # Compute distances between x and all examples in the training set\n",
    "        distances = [euclidean_distance(x, x_train) for x_train in self.X_train]\n",
    "        # Sort by distance and return indices of the first k neighbors\n",
    "        k_idx = np.argsort(distances)[:self.k]\n",
    "        # Extract the labels of the k nearest neighbor training samples\n",
    "        k_neighbor_labels = [self.y_train[i] for i in k_idx]  \n",
    "        # return the most common class label\n",
    "        most_common = Counter(k_neighbor_labels).most_common(1)\n",
    "        return most_common[0][0]"
   ]
  },
  {
   "cell_type": "code",
   "execution_count": 23,
   "metadata": {},
   "outputs": [],
   "source": [
    "clf = KNN(k=3)"
   ]
  },
  {
   "cell_type": "code",
   "execution_count": 24,
   "metadata": {},
   "outputs": [],
   "source": [
    "clf.fit(X_train, y_train)\n",
    "predictions = clf.predict(X_test)"
   ]
  },
  {
   "cell_type": "code",
   "execution_count": 62,
   "metadata": {},
   "outputs": [
    {
     "data": {
      "text/plain": [
       "array([6.3, 5.1, 5. , 5.7, 5.1, 5.5, 5. , 6.5, 4.6, 5.7, 6. , 5.2, 5.2,\n",
       "       5.9, 7. , 7.7, 6.3, 5.5, 6.3, 5.4, 4.9, 5.5, 6.1, 4.4, 5.4, 6.7,\n",
       "       6.3, 4.9, 7.1, 6.7, 4.8, 4.8, 6. , 5.1, 5.8, 6. , 6.7, 6.1, 6. ,\n",
       "       5.1, 5.6, 6.4, 6.9, 5.2, 6.2, 6.1, 7.9, 6.4, 5.4, 5.9, 5.2, 4.6,\n",
       "       4.7, 7.2, 7.2, 5.6, 4.3, 7.7, 5.8, 4.9, 5. , 5.7, 7.7, 5.8, 5. ,\n",
       "       6.7, 6.3, 4.8, 4.4, 6.6, 5.1, 5.1, 6.9, 5.7, 5.5, 6.7, 5.3, 4.9,\n",
       "       6.2, 5.6, 5.7, 5.8, 7.6, 5. , 5.4, 6. , 6.3, 5.4, 5. , 5.8, 6.7,\n",
       "       7.7, 4.9, 6.4, 6.1, 5. , 5.6, 4.5, 5.7, 5.7, 4.7, 6.9, 5.1, 5.9,\n",
       "       6.2, 5. , 5.6, 6.9, 5.5, 7.3, 6.8, 5.8, 5.4, 5.1, 5.8, 6.5, 6.1,\n",
       "       6.8, 6.6, 7.4])"
      ]
     },
     "execution_count": 62,
     "metadata": {},
     "output_type": "execute_result"
    }
   ],
   "source": [
    "clf.X_train[:,0]"
   ]
  },
  {
   "cell_type": "code",
   "execution_count": 27,
   "metadata": {},
   "outputs": [],
   "source": [
    "acc = np.sum(predictions ==y_test)/ len(y_test)"
   ]
  },
  {
   "cell_type": "code",
   "execution_count": 28,
   "metadata": {},
   "outputs": [
    {
     "data": {
      "text/plain": [
       "1.0"
      ]
     },
     "execution_count": 28,
     "metadata": {},
     "output_type": "execute_result"
    }
   ],
   "source": [
    "acc"
   ]
  },
  {
   "cell_type": "code",
   "execution_count": 51,
   "metadata": {},
   "outputs": [],
   "source": [
    "x=[2,4,3,4]"
   ]
  },
  {
   "cell_type": "code",
   "execution_count": 52,
   "metadata": {},
   "outputs": [
    {
     "data": {
      "text/plain": [
       "array([0, 2, 1, 3], dtype=int64)"
      ]
     },
     "execution_count": 52,
     "metadata": {},
     "output_type": "execute_result"
    }
   ],
   "source": [
    "np.argsort(x)"
   ]
  },
  {
   "cell_type": "code",
   "execution_count": null,
   "metadata": {},
   "outputs": [],
   "source": []
  }
 ],
 "metadata": {
  "kernelspec": {
   "display_name": "Python 3",
   "language": "python",
   "name": "python3"
  },
  "language_info": {
   "codemirror_mode": {
    "name": "ipython",
    "version": 3
   },
   "file_extension": ".py",
   "mimetype": "text/x-python",
   "name": "python",
   "nbconvert_exporter": "python",
   "pygments_lexer": "ipython3",
   "version": "3.7.0"
  }
 },
 "nbformat": 4,
 "nbformat_minor": 2
}
